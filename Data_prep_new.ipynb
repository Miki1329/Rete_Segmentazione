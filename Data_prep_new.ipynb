{
 "cells": [
  {
   "cell_type": "code",
   "execution_count": 1,
   "id": "e609c104",
   "metadata": {},
   "outputs": [],
   "source": [
    "from __future__ import print_function\n",
    "\n",
    "from time import time\n",
    "import os\n",
    "import glob\n",
    "import numpy as np\n",
    "from skimage.transform import resize\n",
    "from skimage.io import imsave\n",
    "from PIL import Image\n",
    "from skimage.io import imread\n",
    "from skimage.transform import resize\n",
    "from skimage.io import imsave\n",
    "import matplotlib as mp\n",
    "from matplotlib.colors import Normalize\n",
    "import cv2\n",
    "name='mask'\n",
    " \n",
    "data_path = ''\n",
    "\n",
    "image_rows = int(512)\n",
    "image_cols = int(512)\n",
    "image_depth = 8\n",
    "if(name=='train'):\n",
    "    img_input=os.path.join(data_path, 'Tac/')\n",
    "    img_output=os.path.join(data_path, 'Train_f/')\n",
    "if(name=='mask'):\n",
    "    img_input=os.path.join(data_path, 'BMask/')\n",
    "    img_output=os.path.join(data_path, 'Mask_f/')\n",
    "if(name=='test'):\n",
    "    img_input=os.path.join(data_path, 'Test/')\n",
    "    img_output=os.path.join(data_path, 'Test_f/')\n",
    "if(name=='val'):\n",
    "    img_input=os.path.join(data_path, 'Val/')\n",
    "    img_output=os.path.join(data_path, 'Val_f/')"
   ]
  },
  {
   "cell_type": "code",
   "execution_count": 2,
   "id": "f7a80f74",
   "metadata": {},
   "outputs": [
    {
     "name": "stdout",
     "output_type": "stream",
     "text": [
      "Total Batch                         \n",
      "1504\n"
     ]
    }
   ],
   "source": [
    "tot=0\n",
    "images = sorted(os.listdir(img_input))\n",
    "for image_name in images:\n",
    "    print(image_name,end=\"                     \\r\")\n",
    "    img = imread(os.path.join(img_input, image_name), as_grey=True)\n",
    "    tot+=len(img)\n",
    "    #print(img.shape)\n",
    "tot_batch=tot//image_depth\n",
    "print('Total Batch')\n",
    "print(str(tot_batch))\n",
    "\n",
    "if(name=='mask'or (name=='val')):\n",
    "    imgs = np.ndarray((tot_batch, image_depth, image_rows, image_cols), dtype=np.uint8)#Mask\n",
    "    imgs_mask = np.ndarray((tot_batch, image_depth, image_rows, image_cols), dtype=np.uint8)   \n",
    "if((name=='train')or(name=='test')):\n",
    "    imgs = np.ndarray((tot_batch, image_depth, image_rows, image_cols), dtype=np.float32)#Immagini\n",
    "    imgs_mask = np.ndarray((tot_batch, image_depth, image_rows, image_cols), dtype=np.float32) \n"
   ]
  },
  {
   "cell_type": "code",
   "execution_count": 3,
   "id": "26d160d4",
   "metadata": {
    "scrolled": false
   },
   "outputs": [
    {
     "name": "stdout",
     "output_type": "stream",
     "text": [
      "File Savedd Time  7.6                                                \n"
     ]
    }
   ],
   "source": [
    "i=0\n",
    "remain=0\n",
    "\n",
    "for image_name in images:\n",
    "    start=time()\n",
    "    k=0\n",
    "    if (i==tot_batch-1):\n",
    "        break\n",
    "    print(image_name + \" Time  \" + str(remain),end=\"                                            \\r\")\n",
    "    path=os.path.join(img_input, image_name)\n",
    "    img = imread(path, as_grey=True)\n",
    "    if((name=='train')or(name=='test')):\n",
    "        img[np.where(img<-150)]=-150#IMG\n",
    "        img[np.where(img>2200)]=2200#IMG\n",
    "        img = cv2.normalize(img, None, norm_type=cv2.NORM_MINMAX)\n",
    "        #print(img.shape)\n",
    "    if(name=='mask'or(name=='val')):\n",
    "        #img=resize(img, (len(img),512,512),anti_aliasing=True) #per le mask\n",
    "        img[np.where(img>0)]=255  \n",
    "        #print(img.shape,end=\"\\r\")\n",
    "    for j in range(0 , len(img)):\n",
    "        #print(k)#Debug\n",
    "        if(k+image_depth>len(img)):\n",
    "            break\n",
    "        if(k+image_depth<=len(img)):\n",
    "            for z in range (0, image_depth):\n",
    "                if((name=='train')or(name=='test')):\n",
    "                    imgs[i,z]=(img[k,:,:])\n",
    "                if(name=='mask'or(name=='val')):  \n",
    "                    imgs[i,z]=resize(img[k,:,:],(512,512),anti_aliasing=False) #per le mask\n",
    "                    imgs[i,z,np.where(imgs[i,z]>0)]=1\n",
    "                #print(imgs[i,z])\n",
    "                k+=1\n",
    "                if(z==image_depth-1):\n",
    "                    i+=1\n",
    "    end=time()\n",
    "    remain=np.around((end-start),decimals=1)\n",
    "for i in range (0,tot_batch):    \n",
    "    if(name=='train'):\n",
    "        out=os.path.join(img_output, str(i)+'.npy')\n",
    "        np.save(out, np.expand_dims(imgs[i],axis=0))\n",
    "    if(name=='mask'):\n",
    "        out=os.path.join(img_output, str(i)+'.npy')\n",
    "        np.save(out, np.expand_dims(imgs[i],axis=0))\n",
    "    if(name=='test'):\n",
    "        out=os.path.join(img_output, str(i)+'.npy')\n",
    "        np.save(out, np.expand_dims(imgs[i],axis=0))\n",
    "    if(name=='val'):\n",
    "        out=os.path.join(img_output, str(i)+'.npy')\n",
    "        np.save(out, np.expand_dims(imgs[i],axis=0))\n",
    "print(\"File Saved\")"
   ]
  },
  {
   "cell_type": "code",
   "execution_count": null,
   "id": "1f45e0ae",
   "metadata": {},
   "outputs": [],
   "source": []
  },
  {
   "cell_type": "raw",
   "id": "a8e67f57",
   "metadata": {},
   "source": []
  }
 ],
 "metadata": {
  "kernelspec": {
   "display_name": "Python 3 (ipykernel)",
   "language": "python",
   "name": "python3"
  },
  "language_info": {
   "codemirror_mode": {
    "name": "ipython",
    "version": 3
   },
   "file_extension": ".py",
   "mimetype": "text/x-python",
   "name": "python",
   "nbconvert_exporter": "python",
   "pygments_lexer": "ipython3",
   "version": "3.9.12"
  }
 },
 "nbformat": 4,
 "nbformat_minor": 5
}
